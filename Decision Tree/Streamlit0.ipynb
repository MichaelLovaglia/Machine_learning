{
 "cells": [
  {
   "cell_type": "code",
   "execution_count": null,
   "metadata": {},
   "outputs": [],
   "source": [
    "# import the necessary packages\n",
    "import pandas as pd\n",
    "import numpy as np\n",
    "import pickle as pkl\n",
    "import streamlit as stl\n",
    "from PIL import Image as img"
   ]
  },
  {
   "cell_type": "code",
   "execution_count": null,
   "metadata": {},
   "outputs": [],
   "source": [
    "pickle_in = open('classifier.pkl', 'rb')\n",
    "classifier = pkl.load(pickle_in)"
   ]
  },
  {
   "cell_type": "code",
   "execution_count": null,
   "metadata": {},
   "outputs": [],
   "source": [
    "def prediction(sepal_length, sepal_width, petal_length, petal_width):\n",
    "    y_pred = classifier.predict(\n",
    "        [[sepal_length, sepal_width, petal_length, petal_width]]\n",
    "    )\n",
    "    print(y_pred)\n",
    "    return y_pred"
   ]
  },
  {
   "cell_type": "code",
   "execution_count": null,
   "metadata": {},
   "outputs": [],
   "source": [
    "def main():\n",
    "    stl.title(\"Iris Flower Prediction\")\n",
    "    html_temp = \"\"\"\n",
    "    <div style = \"background-color: #FFFF00; padding: 16px\">\n",
    "    <h1 style = \"color: #000000; text-align: centre;\">Streamlit Iris Flower Classifier ML App\n",
    "    </h1>\n",
    "    </div>\n",
    "    \"\"\"\n",
    "    stl.markdown(html_temp, unsafe_allow_html = True)\n",
    "    sepal_length = stl.text_input(\"Sepal Length\", \" Type Here\")\n",
    "    sepal_width = stl.text_input(\"Sepal Width\", \" Type Here\")\n",
    "    petal_length = stl.text_input(\"Petal Length\", \" Type Here\")\n",
    "    petal_width = stl.text_input(\"Petal Width\", \" Type Here\")\n",
    "    result = \" \"\n",
    "    if stl.button(\"Predict\"):\n",
    "        result = prediction(sepal_length, sepal_width, petal_length, petal_width)\n",
    "    stl.success(\"The output of the above is {}\".format(result))"
   ]
  },
  {
   "cell_type": "code",
   "execution_count": null,
   "metadata": {},
   "outputs": [],
   "source": [
    "if __name__ == '__main__':\n",
    "    main() "
   ]
  }
 ],
 "metadata": {
  "kernelspec": {
   "display_name": "Python 3",
   "language": "python",
   "name": "python3"
  },
  "language_info": {
   "name": "python",
   "version": "3.10.6 (tags/v3.10.6:9c7b4bd, Aug  1 2022, 21:53:49) [MSC v.1932 64 bit (AMD64)]"
  },
  "orig_nbformat": 4,
  "vscode": {
   "interpreter": {
    "hash": "8a5edab282632443219e051e4ade2d1d5bbc671c781051bf1437897cbdfea0f1"
   }
  }
 },
 "nbformat": 4,
 "nbformat_minor": 2
}
